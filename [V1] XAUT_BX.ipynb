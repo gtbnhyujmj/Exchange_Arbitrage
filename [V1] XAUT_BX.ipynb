{
  "nbformat": 4,
  "nbformat_minor": 0,
  "metadata": {
    "colab": {
      "provenance": [],
      "authorship_tag": "ABX9TyN18o7NPv2fwmZAsZhcOqZx",
      "include_colab_link": true
    },
    "kernelspec": {
      "name": "python3",
      "display_name": "Python 3"
    },
    "language_info": {
      "name": "python"
    }
  },
  "cells": [
    {
      "cell_type": "markdown",
      "metadata": {
        "id": "view-in-github",
        "colab_type": "text"
      },
      "source": [
        "<a href=\"https://colab.research.google.com/github/gtbnhyujmj/Gold_Cross-Exchange-Arbitrage/blob/main/%5BV1%5D%20XAUT_BX.ipynb\" target=\"_parent\"><img src=\"https://colab.research.google.com/assets/colab-badge.svg\" alt=\"Open In Colab\"/></a>"
      ]
    },
    {
      "cell_type": "markdown",
      "source": [
        "# BX 查詢價格"
      ],
      "metadata": {
        "id": "IpNCcOMApf3A"
      }
    },
    {
      "cell_type": "code",
      "execution_count": 274,
      "metadata": {
        "id": "535kt6H0lPvA"
      },
      "outputs": [],
      "source": [
        "import time\n",
        "import requests\n",
        "import hmac\n",
        "from hashlib import sha256"
      ]
    },
    {
      "cell_type": "code",
      "source": [
        "# API 主網址\n",
        "APIURL = \"https://open-api.bingx.com\""
      ],
      "metadata": {
        "id": "pbWx6MkXmV_s"
      },
      "execution_count": 275,
      "outputs": []
    },
    {
      "cell_type": "code",
      "source": [
        "# 你的 API 金鑰（可以先空著測試）\n",
        "APIKEY = \"\"\n",
        "SECRETKEY = \"\""
      ],
      "metadata": {
        "id": "Ky_F1IabmX7D"
      },
      "execution_count": 276,
      "outputs": []
    },
    {
      "cell_type": "code",
      "source": [
        "# 查詢 XAUT-USDT 的即時價格 (泰達公司出的泰達黃金)\n",
        "\n",
        "def demo():\n",
        "    # 請求資料可以是空的（GET 請求）\n",
        "    payload = {}\n",
        "\n",
        "    # API 的路徑\n",
        "    path = '/openApi/swap/v1/ticker/price'\n",
        "\n",
        "    # 請求方式\n",
        "    method = \"GET\"\n",
        "\n",
        "    # 要送出的參數\n",
        "    paramsMap = {\n",
        "        \"symbol\": \"XAUT-USDT\",  # 想查詢的幣種\n",
        "        \"timestamp\": \"1702718923479\"  # 固定的測試值，後面會自動更新\n",
        "    }\n",
        "\n",
        "    # 將參數轉成 URL 格式字串\n",
        "    paramsStr = parseParam(paramsMap)\n",
        "\n",
        "    # 送出請求\n",
        "    return send_request(method, path, paramsStr, payload)"
      ],
      "metadata": {
        "id": "SY1IDTaqmayL"
      },
      "execution_count": 277,
      "outputs": []
    },
    {
      "cell_type": "code",
      "source": [
        "# 對參數進行簽名（加密）\n",
        "\n",
        "def get_sign(api_secret, payload):\n",
        "    # 使用 SHA256 加密並回傳簽名值\n",
        "    key_bytes = api_secret.encode(\"utf-8\")\n",
        "    payload_bytes = payload.encode(\"utf-8\")\n",
        "    signature = hmac.new(key_bytes, payload_bytes, digestmod=sha256).hexdigest()\n",
        "    print(\"簽名結果 =\", signature)\n",
        "    return signature"
      ],
      "metadata": {
        "id": "8cp1dK39mc0j"
      },
      "execution_count": 278,
      "outputs": []
    },
    {
      "cell_type": "code",
      "source": [
        "# 發送 GET 請求\n",
        "\n",
        "def send_request(method, path, urlpa, payload):\n",
        "    # 手動組合 URL 字串（不使用 f-string）\n",
        "    base_url = APIURL + path + \"?\" + urlpa + \"&signature=\" + get_sign(SECRETKEY, urlpa)\n",
        "    print(\"請求網址 =\", base_url)\n",
        "\n",
        "    # 設定 headers，帶上 API 金鑰\n",
        "    headers = {\n",
        "        'X-BX-APIKEY': APIKEY,\n",
        "    }\n",
        "\n",
        "    # 送出請求\n",
        "    response = requests.request(method, base_url, headers=headers, data=payload)\n",
        "\n",
        "    # 回傳伺服器的回應\n",
        "    return response.text"
      ],
      "metadata": {
        "id": "ue24EIMtmekL"
      },
      "execution_count": 279,
      "outputs": []
    },
    {
      "cell_type": "code",
      "source": [
        "# 將參數轉為 URL 字串，並自動加入目前時間戳\n",
        "\n",
        "def parseParam(paramsMap):\n",
        "    # 將參數依照 key 排序\n",
        "    sortedKeys = sorted(paramsMap)\n",
        "\n",
        "    # 將每組 key=value 用 & 串接起來\n",
        "    paramsStr = \"\"\n",
        "    for key in sortedKeys:\n",
        "        if paramsStr != \"\":\n",
        "            paramsStr = paramsStr + \"&\" + key + \"=\" + str(paramsMap[key])\n",
        "        else:\n",
        "            paramsStr = key + \"=\" + str(paramsMap[key])\n",
        "\n",
        "    # 加上目前時間戳\n",
        "    now_timestamp = \"timestamp=\" + str(int(time.time() * 1000))\n",
        "\n",
        "    # 如果已經有參數，就補上 &timestamp\n",
        "    if paramsStr != \"\":\n",
        "        return paramsStr + \"&\" + now_timestamp\n",
        "    else:\n",
        "        return now_timestamp"
      ],
      "metadata": {
        "id": "hb75XRdXmhhD"
      },
      "execution_count": 280,
      "outputs": []
    },
    {
      "cell_type": "code",
      "source": [
        "# 主程式：呼叫 demo 函式\n",
        "if __name__ == '__main__':\n",
        "    print(\"執行結果:\", demo())"
      ],
      "metadata": {
        "colab": {
          "base_uri": "https://localhost:8080/"
        },
        "id": "Yg0Z2JBAmlq7",
        "outputId": "ad96fad8-712a-4e90-ee52-273e057aea0a"
      },
      "execution_count": 281,
      "outputs": [
        {
          "output_type": "stream",
          "name": "stdout",
          "text": [
            "簽名結果 = aed399f3ac2398185aad63d4ff280fbe314cc6cf85414bf7d2bd816e0a4e5b98\n",
            "請求網址 = https://open-api.bingx.com/openApi/swap/v1/ticker/price?symbol=XAUT-USDT&timestamp=1702718923479&timestamp=1749910464341&signature=aed399f3ac2398185aad63d4ff280fbe314cc6cf85414bf7d2bd816e0a4e5b98\n",
            "執行結果: {\"code\":0,\"msg\":\"\",\"data\":{\"symbol\":\"XAUT-USDT\",\"price\":\"3435.5\",\"time\":1749910464407}}\n"
          ]
        }
      ]
    },
    {
      "cell_type": "code",
      "source": [
        "# 自動排版\n",
        "import json  # 加在檔案開頭\n",
        "\n",
        "BX = demo()\n",
        "\n",
        "# 在 print(result) 改成這樣：\n",
        "parsed = json.loads(BX)\n",
        "print(json.dumps(parsed, indent=2))"
      ],
      "metadata": {
        "colab": {
          "base_uri": "https://localhost:8080/"
        },
        "id": "rMSD75VXpru4",
        "outputId": "f4cd8afe-6f09-41a6-ab87-17229741d1f8"
      },
      "execution_count": 282,
      "outputs": [
        {
          "output_type": "stream",
          "name": "stdout",
          "text": [
            "簽名結果 = 1c20e7d7aa5e106349cf6945fb6ab8929e236e1411a2c32b6a5d4ce1dc3b3b9a\n",
            "請求網址 = https://open-api.bingx.com/openApi/swap/v1/ticker/price?symbol=XAUT-USDT&timestamp=1702718923479&timestamp=1749910464679&signature=1c20e7d7aa5e106349cf6945fb6ab8929e236e1411a2c32b6a5d4ce1dc3b3b9a\n",
            "{\n",
            "  \"code\": 0,\n",
            "  \"msg\": \"\",\n",
            "  \"data\": {\n",
            "    \"symbol\": \"XAUT-USDT\",\n",
            "    \"price\": \"3435.6\",\n",
            "    \"time\": 1749910464808\n",
            "  }\n",
            "}\n"
          ]
        }
      ]
    },
    {
      "cell_type": "code",
      "source": [
        "bingx_gold_price = parsed[\"data\"][\"price\"]\n",
        "\n",
        "bingx_gold_price"
      ],
      "metadata": {
        "colab": {
          "base_uri": "https://localhost:8080/",
          "height": 36
        },
        "id": "AHrPVbuoq2Yw",
        "outputId": "a1a63f61-9fff-4426-fa70-814c1cbb1159"
      },
      "execution_count": 283,
      "outputs": [
        {
          "output_type": "execute_result",
          "data": {
            "text/plain": [
              "'3435.6'"
            ],
            "application/vnd.google.colaboratory.intrinsic+json": {
              "type": "string"
            }
          },
          "metadata": {},
          "execution_count": 283
        }
      ]
    },
    {
      "cell_type": "markdown",
      "source": [
        "# 交易所2 查詢價格"
      ],
      "metadata": {
        "id": "TwcFj7LrpWdx"
      }
    },
    {
      "cell_type": "code",
      "source": [],
      "metadata": {
        "id": "EUzDB1ewpapg"
      },
      "execution_count": 283,
      "outputs": []
    },
    {
      "cell_type": "code",
      "source": [],
      "metadata": {
        "id": "-x1By1GOpbLQ"
      },
      "execution_count": 283,
      "outputs": []
    },
    {
      "cell_type": "code",
      "source": [
        "exchange_b_gold_price = parsed[\"data\"][\"price\"]\n",
        "\n",
        "exchange_b_gold_price"
      ],
      "metadata": {
        "colab": {
          "base_uri": "https://localhost:8080/",
          "height": 36
        },
        "id": "J08pLbzwry41",
        "outputId": "6612e155-1d05-4717-890b-76dc0f86df73"
      },
      "execution_count": 284,
      "outputs": [
        {
          "output_type": "execute_result",
          "data": {
            "text/plain": [
              "'3435.6'"
            ],
            "application/vnd.google.colaboratory.intrinsic+json": {
              "type": "string"
            }
          },
          "metadata": {},
          "execution_count": 284
        }
      ]
    },
    {
      "cell_type": "markdown",
      "source": [
        "# BX 開倉定義"
      ],
      "metadata": {
        "id": "5gTZZbSOtNRE"
      }
    },
    {
      "cell_type": "code",
      "source": [
        "import time\n",
        "import requests\n",
        "import hmac\n",
        "from hashlib import sha256"
      ],
      "metadata": {
        "id": "qOB8iNO5uxoz"
      },
      "execution_count": 285,
      "outputs": []
    },
    {
      "cell_type": "code",
      "source": [
        "APIURL = \"https://open-api.bingx.com\"\n",
        "APIKEY = \"\"      # ✅ 請填入你的 API KEY\n",
        "SECRETKEY = \"\"   # ✅ 請填入你的 SECRET KEY"
      ],
      "metadata": {
        "id": "Q_z91r0buy-i"
      },
      "execution_count": 286,
      "outputs": []
    },
    {
      "cell_type": "code",
      "source": [
        "def BX_place_order(symbol, side, positionSide, quantity, take_profit_price=None):\n",
        "\n",
        "    \"\"\"\n",
        "    向 BingX 發送市價單下單指令，可選擇停利參數。\n",
        "\n",
        "    symbol: 幣種（例如 \"BTC-USDT\"）\n",
        "    side: \"BUY\" 或 \"SELL\"\n",
        "    positionSide: \"LONG\" 或 \"SHORT\"\n",
        "    quantity: 下單數量\n",
        "    take_profit_price: 停利價格（選填）\n",
        "\n",
        "    回傳值為 BingX API 的回應文字。\n",
        "    \"\"\"\n",
        "\n",
        "    # API 資訊\n",
        "    path = '/openApi/swap/v2/trade/order'\n",
        "    method = \"POST\"\n",
        "\n",
        "    # 組裝參數\n",
        "    paramsMap = {\n",
        "        \"symbol\": symbol,\n",
        "        \"side\": side,\n",
        "        \"positionSide\": positionSide,\n",
        "        \"type\": \"MARKET\",  # 市價單\n",
        "        \"quantity\": quantity\n",
        "    }\n",
        "\n",
        "    # 如有設定停利價格，就加入 takeProfit 條件\n",
        "    if take_profit_price is not None:\n",
        "        take_profit_dict = {\n",
        "            \"type\": \"TAKE_PROFIT_MARKET\",\n",
        "            \"stopPrice\": take_profit_price,\n",
        "            \"price\": take_profit_price,\n",
        "            \"workingType\": \"MARK_PRICE\"\n",
        "        }\n",
        "        import json\n",
        "        paramsMap[\"takeProfit\"] = json.dumps(take_profit_dict)\n",
        "\n",
        "    # 加入時間戳並排序\n",
        "    sortedKeys = sorted(paramsMap)\n",
        "    paramsStr = \"&\".join([\"%s=%s\" % (k, paramsMap[k]) for k in sortedKeys])\n",
        "    timestamp = str(int(time.time() * 1000))\n",
        "    if paramsStr != \"\":\n",
        "        paramsStr += \"&timestamp=\" + timestamp\n",
        "    else:\n",
        "        paramsStr = \"timestamp=\" + timestamp\n",
        "\n",
        "    # 產生簽名\n",
        "    sign_payload = paramsStr\n",
        "    signature = hmac.new(SECRETKEY.encode(\"utf-8\"), sign_payload.encode(\"utf-8\"), digestmod=sha256).hexdigest()\n",
        "\n",
        "    # 發送請求\n",
        "    url = APIURL + path + \"?\" + paramsStr + \"&signature=\" + signature\n",
        "    headers = {\n",
        "        'X-BX-APIKEY': APIKEY,\n",
        "    }\n",
        "\n",
        "    response = requests.request(method, url, headers=headers, data={})\n",
        "    return response.text"
      ],
      "metadata": {
        "id": "0SDG8HUytgAc"
      },
      "execution_count": 287,
      "outputs": []
    },
    {
      "cell_type": "code",
      "source": [
        "# 下單 BTC-USDT，多單，數量 5，不設停利\n",
        "# result = BX_place_order(\"BTC-USDT\", \"BUY\", \"LONG\", 5)\n",
        "\n",
        "# 下單 ETH-USDT，空單，數量 2，停利設在 3500\n",
        "# result = BX_place_order(\"ETH-USDT\", \"SELL\", \"SHORT\", 2, take_profit_price=3500)\n",
        "\n",
        "# print(\"回傳結果:\", result)"
      ],
      "metadata": {
        "id": "wLttZjIOvD7K"
      },
      "execution_count": 288,
      "outputs": []
    },
    {
      "cell_type": "code",
      "source": [
        "# 以BX為基準交易所，查完價格後就直接開倉。\n",
        "# 因為是兩個或是未來多個交易所套利，所以應該是不用設定停利條件。\n",
        "\n",
        "# BINGX關倉需要合約號，所以還要再寫個查合約號，並且記錄合約號。"
      ],
      "metadata": {
        "id": "5MXmOOmwweUB"
      },
      "execution_count": 289,
      "outputs": []
    },
    {
      "cell_type": "markdown",
      "source": [
        "# BX 合約號紀錄"
      ],
      "metadata": {
        "id": "xuyX8nNBxSgo"
      }
    },
    {
      "cell_type": "code",
      "source": [
        "import time\n",
        "import requests\n",
        "import hmac\n",
        "from hashlib import sha256"
      ],
      "metadata": {
        "id": "QW4e4xOayJAw"
      },
      "execution_count": 290,
      "outputs": []
    },
    {
      "cell_type": "code",
      "source": [
        "APIURL = \"https://open-api.bingx.com\"\n",
        "APIKEY = \"\"      # ✅ 請填入你的 API KEY\n",
        "SECRETKEY = \"\"   # ✅ 請填入你的 SECRET KEY"
      ],
      "metadata": {
        "id": "3_zf_mQ4yK23"
      },
      "execution_count": 291,
      "outputs": []
    },
    {
      "cell_type": "code",
      "source": [
        "def get_bingx_position_id(symbol):\n",
        "\n",
        "    \"\"\"\n",
        "    查詢指定幣種持倉資訊，回傳該倉位的 positionId 字串。\n",
        "    symbol: 幣種對（例如 \"BNB-USDT\"）\n",
        "\n",
        "    回傳: positionId（字串），若查無則回傳 None。\n",
        "    \"\"\"\n",
        "\n",
        "    # API 資訊\n",
        "    path = '/openApi/swap/v2/user/positions'\n",
        "    method = \"GET\"\n",
        "\n",
        "    # 組裝請求參數\n",
        "    paramsMap = {\n",
        "        \"symbol\": symbol\n",
        "    }\n",
        "\n",
        "    # 排序參數並加入 timestamp\n",
        "    sortedKeys = sorted(paramsMap)\n",
        "    paramsStr = \"\"\n",
        "    for key in sortedKeys:\n",
        "        if paramsStr != \"\":\n",
        "            paramsStr += \"&\"\n",
        "        paramsStr += key + \"=\" + str(paramsMap[key])\n",
        "    paramsStr += \"&timestamp=\" + str(int(time.time() * 1000))\n",
        "\n",
        "    # 簽名\n",
        "    signature = hmac.new(\n",
        "        SECRETKEY.encode(\"utf-8\"),\n",
        "        paramsStr.encode(\"utf-8\"),\n",
        "        digestmod=sha256\n",
        "    ).hexdigest()\n",
        "\n",
        "    # URL 組合\n",
        "    url = APIURL + path + \"?\" + paramsStr + \"&signature=\" + signature\n",
        "    print(\"查詢請求：\", url)\n",
        "\n",
        "    headers = {\n",
        "        'X-BX-APIKEY': APIKEY,\n",
        "    }\n",
        "\n",
        "    # 發送請求\n",
        "    response = requests.request(method, url, headers=headers, data={})\n",
        "    try:\n",
        "        result = response.json()\n",
        "        position_id = result[\"data\"][\"positionId\"]\n",
        "        print(\"🎯 查到 positionId =\", position_id)\n",
        "        return str(position_id)\n",
        "    except Exception as e:\n",
        "        print(\"⚠️ 解析失敗或查無倉位：\", e)\n",
        "        return None"
      ],
      "metadata": {
        "id": "e_qSSctDxVCY"
      },
      "execution_count": 292,
      "outputs": []
    },
    {
      "cell_type": "code",
      "source": [
        "position_id = get_bingx_position_id(\"XAUT-USDT\")\n",
        "\n",
        "if position_id is not None:\n",
        "    print(\"✅ 倉位 ID 已獲得：\", position_id)\n",
        "else:\n",
        "    print(\"❌ 查無倉位\")"
      ],
      "metadata": {
        "colab": {
          "base_uri": "https://localhost:8080/"
        },
        "id": "KTkHoefLyPBg",
        "outputId": "379f507a-860f-4ce7-eaab-b58f514dfd47"
      },
      "execution_count": 293,
      "outputs": [
        {
          "output_type": "stream",
          "name": "stdout",
          "text": [
            "查詢請求： https://open-api.bingx.com/openApi/swap/v2/user/positions?symbol=XAUT-USDT&timestamp=1749910465071&signature=3e04bed9fd608c2343f6fa24b4d5fe3a30322d0d7a147f7f048ac063c162162e\n",
            "⚠️ 解析失敗或查無倉位： 'data'\n",
            "❌ 查無倉位\n"
          ]
        }
      ]
    },
    {
      "cell_type": "markdown",
      "source": [
        "# 交易所2 開倉定義"
      ],
      "metadata": {
        "id": "qEUMye4_tRxk"
      }
    },
    {
      "cell_type": "code",
      "source": [],
      "metadata": {
        "id": "lliNmB0Vtg18"
      },
      "execution_count": 293,
      "outputs": []
    },
    {
      "cell_type": "markdown",
      "source": [
        "# BX 關倉定義"
      ],
      "metadata": {
        "id": "fZAhcwjZsy5N"
      }
    },
    {
      "cell_type": "code",
      "source": [
        "import time\n",
        "import requests\n",
        "import hmac\n",
        "from hashlib import sha256"
      ],
      "metadata": {
        "id": "yl7XBkH0vzJy"
      },
      "execution_count": 294,
      "outputs": []
    },
    {
      "cell_type": "code",
      "source": [
        "APIURL = \"https://open-api.bingx.com\"\n",
        "APIKEY = \"\"      # ✅ 請填入你的 API KEY\n",
        "SECRETKEY = \"\"   # ✅ 請填入你的 SECRET KEY"
      ],
      "metadata": {
        "id": "5njTOYtPvzoR"
      },
      "execution_count": 295,
      "outputs": []
    },
    {
      "cell_type": "code",
      "source": [
        "def close_bingx_position(order_id, symbol):\n",
        "\n",
        "    \"\"\"\n",
        "    取消 BingX 的合約訂單（平倉用）\n",
        "\n",
        "    order_id: 要取消的訂單 ID\n",
        "    symbol: 幣種對，如 \"RNDR-USDT\"\n",
        "\n",
        "    回傳值為 API 的回應文字。\n",
        "    \"\"\"\n",
        "\n",
        "    # API 路徑與方法\n",
        "    path = '/openApi/swap/v2/trade/order'\n",
        "    method = \"DELETE\"\n",
        "\n",
        "    # 組合參數（不含簽名）\n",
        "    paramsMap = {\n",
        "        \"orderId\": order_id,\n",
        "        \"symbol\": symbol\n",
        "    }\n",
        "\n",
        "    # 加入 timestamp 並轉為參數字串\n",
        "    sortedKeys = sorted(paramsMap)\n",
        "    paramsStr = \"\"\n",
        "    for key in sortedKeys:\n",
        "        if paramsStr != \"\":\n",
        "            paramsStr = paramsStr + \"&\" + key + \"=\" + str(paramsMap[key])\n",
        "        else:\n",
        "            paramsStr = key + \"=\" + str(paramsMap[key])\n",
        "\n",
        "    # 加入當前時間戳\n",
        "    timestamp = str(int(time.time() * 1000))\n",
        "    if paramsStr != \"\":\n",
        "        paramsStr += \"&timestamp=\" + timestamp\n",
        "    else:\n",
        "        paramsStr = \"timestamp=\" + timestamp\n",
        "\n",
        "    # 簽名處理\n",
        "    signature = hmac.new(\n",
        "        SECRETKEY.encode(\"utf-8\"),\n",
        "        paramsStr.encode(\"utf-8\"),\n",
        "        digestmod=sha256\n",
        "    ).hexdigest()\n",
        "\n",
        "    # 組合 URL\n",
        "    url = APIURL + path + \"?\" + paramsStr + \"&signature=\" + signature\n",
        "    print(\"取消訂單請求：\", url)\n",
        "\n",
        "    # 設定標頭與送出請求\n",
        "    headers = {\n",
        "        'X-BX-APIKEY': APIKEY,\n",
        "    }\n",
        "\n",
        "    response = requests.request(method, url, headers=headers, data={})\n",
        "    return response.text"
      ],
      "metadata": {
        "id": "PoKoCHL4s4_U"
      },
      "execution_count": 296,
      "outputs": []
    },
    {
      "cell_type": "code",
      "source": [],
      "metadata": {
        "id": "vQCzj3kXygRn"
      },
      "execution_count": 296,
      "outputs": []
    },
    {
      "cell_type": "markdown",
      "source": [
        "# 交易所2 關倉定義"
      ],
      "metadata": {
        "id": "7Bc36uOWs2A9"
      }
    },
    {
      "cell_type": "code",
      "source": [],
      "metadata": {
        "id": "zOvw-Z8ks6RN"
      },
      "execution_count": 296,
      "outputs": []
    },
    {
      "cell_type": "markdown",
      "source": [
        "# 比價"
      ],
      "metadata": {
        "id": "_sOxBC8Kpb1g"
      }
    },
    {
      "cell_type": "code",
      "source": [
        "import time\n",
        "\n",
        "# 每幾秒檢查一次\n",
        "CHECK_INTERVAL = 0.2  # 秒\n",
        "\n",
        "# 當價差超過這個值就提醒\n",
        "TARGET_SPREAD = 5  # 假設為 5 USDT\n",
        "\n",
        "while True:\n",
        "    bingx_price = float(bingx_gold_price)     # 交易所A（BingX）的報價\n",
        "    exchb_price = float(exchange_b_gold_price)  # 交易所B的報價（尚未實作）\n",
        "\n",
        "    # 兩邊都查到才繼續\n",
        "    if bingx_price is not None and exchb_price is not None:\n",
        "        # 價差 = BX - B\n",
        "        spread = bingx_price - exchb_price\n",
        "\n",
        "        print(\"BingX:\", bingx_price, \"| 交易所B:\", exchb_price, \"| 價差:\", spread)\n",
        "\n",
        "        # 如果價差大於目標門檻\n",
        "        print(\"🚀 價差超過門檻！執行雙方平倉策略...\")\n",
        "\n",
        "        # 發送平倉指令（實際情況請串接交易 API）\n",
        "        # close_bingx_position()\n",
        "        # close_exchange_b_position()\n",
        "\n",
        "        print(\"✅ 已向兩家交易所發出平倉指令\")\n",
        "        break  # 測試完後退出迴圈\n",
        "\n",
        "    time.sleep(CHECK_INTERVAL)"
      ],
      "metadata": {
        "colab": {
          "base_uri": "https://localhost:8080/"
        },
        "id": "y3GH5rYQpeg5",
        "outputId": "90bd0a34-8b9b-4ad4-98bd-9f351626af37"
      },
      "execution_count": 297,
      "outputs": [
        {
          "output_type": "stream",
          "name": "stdout",
          "text": [
            "BingX: 3435.6 | 交易所B: 3435.6 | 價差: 0.0\n",
            "🚀 價差超過門檻！執行雙方平倉策略...\n",
            "✅ 已向兩家交易所發出平倉指令\n"
          ]
        }
      ]
    },
    {
      "cell_type": "code",
      "source": [],
      "metadata": {
        "id": "aJE7prGVzI7m"
      },
      "execution_count": null,
      "outputs": []
    },
    {
      "cell_type": "code",
      "source": [
        "# 我們討論的 應該是 BX - B = 0 的時候，同步平倉。\n",
        "# 應該是TARGET_SPREAD = 0 的時候同步平倉，這是我的理解。"
      ],
      "metadata": {
        "id": "t-WW10cRzJMu"
      },
      "execution_count": null,
      "outputs": []
    },
    {
      "cell_type": "code",
      "source": [
        "# 2025/06/14"
      ],
      "metadata": {
        "id": "cRczhTRezcMG"
      },
      "execution_count": null,
      "outputs": []
    }
  ]
}