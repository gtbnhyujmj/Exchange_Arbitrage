{
  "nbformat": 4,
  "nbformat_minor": 0,
  "metadata": {
    "colab": {
      "provenance": [],
      "authorship_tag": "ABX9TyPAdSyhlTIl/8r52oVkmvuM",
      "include_colab_link": true
    },
    "kernelspec": {
      "name": "python3",
      "display_name": "Python 3"
    },
    "language_info": {
      "name": "python"
    }
  },
  "cells": [
    {
      "cell_type": "markdown",
      "metadata": {
        "id": "view-in-github",
        "colab_type": "text"
      },
      "source": [
        "<a href=\"https://colab.research.google.com/github/gtbnhyujmj/Gold_Cross-Exchange-Arbitrage/blob/main/%5BV2%5D%20XAUT_BX.ipynb\" target=\"_parent\"><img src=\"https://colab.research.google.com/assets/colab-badge.svg\" alt=\"Open In Colab\"/></a>"
      ]
    },
    {
      "cell_type": "markdown",
      "source": [
        "# BX 查詢價格"
      ],
      "metadata": {
        "id": "IpNCcOMApf3A"
      }
    },
    {
      "cell_type": "code",
      "execution_count": 1,
      "metadata": {
        "id": "535kt6H0lPvA"
      },
      "outputs": [],
      "source": [
        "import time\n",
        "import requests\n",
        "import hmac\n",
        "from hashlib import sha256"
      ]
    },
    {
      "cell_type": "code",
      "source": [
        "# API 主網址\n",
        "APIURL = \"https://open-api.bingx.com\""
      ],
      "metadata": {
        "id": "pbWx6MkXmV_s"
      },
      "execution_count": 2,
      "outputs": []
    },
    {
      "cell_type": "code",
      "source": [
        "# 你的 API 金鑰（可以先空著測試）\n",
        "APIKEY = \"\"\n",
        "SECRETKEY = \"\""
      ],
      "metadata": {
        "id": "Ky_F1IabmX7D"
      },
      "execution_count": 3,
      "outputs": []
    },
    {
      "cell_type": "code",
      "source": [
        "# 查詢 XAUT-USDT 的即時價格 (泰達公司出的泰達黃金)\n",
        "\n",
        "def demo():\n",
        "    # 請求資料可以是空的（GET 請求）\n",
        "    payload = {}\n",
        "\n",
        "    # API 的路徑\n",
        "    path = '/openApi/swap/v1/ticker/price'\n",
        "\n",
        "    # 請求方式\n",
        "    method = \"GET\"\n",
        "\n",
        "    # 要送出的參數\n",
        "    paramsMap = {\n",
        "        \"symbol\": \"XAUT-USDT\",  # 想查詢的幣種\n",
        "        \"timestamp\": \"1702718923479\"  # 固定的測試值，後面會自動更新\n",
        "    }\n",
        "\n",
        "    # 將參數轉成 URL 格式字串\n",
        "    paramsStr = parseParam(paramsMap)\n",
        "\n",
        "    # 送出請求\n",
        "    return send_request(method, path, paramsStr, payload)"
      ],
      "metadata": {
        "id": "SY1IDTaqmayL"
      },
      "execution_count": 4,
      "outputs": []
    },
    {
      "cell_type": "code",
      "source": [
        "# 對參數進行簽名（加密）\n",
        "\n",
        "def get_sign(api_secret, payload):\n",
        "    # 使用 SHA256 加密並回傳簽名值\n",
        "    key_bytes = api_secret.encode(\"utf-8\")\n",
        "    payload_bytes = payload.encode(\"utf-8\")\n",
        "    signature = hmac.new(key_bytes, payload_bytes, digestmod=sha256).hexdigest()\n",
        "    print(\"簽名結果 =\", signature)\n",
        "    return signature"
      ],
      "metadata": {
        "id": "8cp1dK39mc0j"
      },
      "execution_count": 5,
      "outputs": []
    },
    {
      "cell_type": "code",
      "source": [
        "# 發送 GET 請求\n",
        "\n",
        "def send_request(method, path, urlpa, payload):\n",
        "    # 手動組合 URL 字串（不使用 f-string）\n",
        "    base_url = APIURL + path + \"?\" + urlpa + \"&signature=\" + get_sign(SECRETKEY, urlpa)\n",
        "    print(\"請求網址 =\", base_url)\n",
        "\n",
        "    # 設定 headers，帶上 API 金鑰\n",
        "    headers = {\n",
        "        'X-BX-APIKEY': APIKEY,\n",
        "    }\n",
        "\n",
        "    # 送出請求\n",
        "    response = requests.request(method, base_url, headers=headers, data=payload)\n",
        "\n",
        "    # 回傳伺服器的回應\n",
        "    return response.text"
      ],
      "metadata": {
        "id": "ue24EIMtmekL"
      },
      "execution_count": 6,
      "outputs": []
    },
    {
      "cell_type": "code",
      "source": [
        "# 將參數轉為 URL 字串，並自動加入目前時間戳\n",
        "\n",
        "def parseParam(paramsMap):\n",
        "    # 將參數依照 key 排序\n",
        "    sortedKeys = sorted(paramsMap)\n",
        "\n",
        "    # 將每組 key=value 用 & 串接起來\n",
        "    paramsStr = \"\"\n",
        "    for key in sortedKeys:\n",
        "        if paramsStr != \"\":\n",
        "            paramsStr = paramsStr + \"&\" + key + \"=\" + str(paramsMap[key])\n",
        "        else:\n",
        "            paramsStr = key + \"=\" + str(paramsMap[key])\n",
        "\n",
        "    # 加上目前時間戳\n",
        "    now_timestamp = \"timestamp=\" + str(int(time.time() * 1000))\n",
        "\n",
        "    # 如果已經有參數，就補上 &timestamp\n",
        "    if paramsStr != \"\":\n",
        "        return paramsStr + \"&\" + now_timestamp\n",
        "    else:\n",
        "        return now_timestamp"
      ],
      "metadata": {
        "id": "hb75XRdXmhhD"
      },
      "execution_count": 7,
      "outputs": []
    },
    {
      "cell_type": "code",
      "source": [
        "# 主程式：呼叫 demo 函式\n",
        "if __name__ == '__main__':\n",
        "    print(\"執行結果:\", demo())"
      ],
      "metadata": {
        "colab": {
          "base_uri": "https://localhost:8080/"
        },
        "id": "Yg0Z2JBAmlq7",
        "outputId": "9f5f3d41-d828-44f6-d153-a1c91dc76573"
      },
      "execution_count": 8,
      "outputs": [
        {
          "output_type": "stream",
          "name": "stdout",
          "text": [
            "簽名結果 = eeb690d11068438bfa1b416d6c1eca6cc12e52c84fdcf2347f218d06fd96d9fe\n",
            "請求網址 = https://open-api.bingx.com/openApi/swap/v1/ticker/price?symbol=XAUT-USDT&timestamp=1702718923479&timestamp=1749950476523&signature=eeb690d11068438bfa1b416d6c1eca6cc12e52c84fdcf2347f218d06fd96d9fe\n",
            "執行結果: {\"code\":0,\"msg\":\"\",\"data\":{\"symbol\":\"XAUT-USDT\",\"price\":\"3471.5\",\"time\":1749950476607}}\n"
          ]
        }
      ]
    },
    {
      "cell_type": "code",
      "source": [
        "# 自動排版\n",
        "import json  # 加在檔案開頭\n",
        "\n",
        "BX = demo()\n",
        "\n",
        "# 在 print(result) 改成這樣：\n",
        "parsed = json.loads(BX)\n",
        "print(json.dumps(parsed, indent=2))"
      ],
      "metadata": {
        "colab": {
          "base_uri": "https://localhost:8080/"
        },
        "id": "rMSD75VXpru4",
        "outputId": "91ff0404-328d-4fa2-c908-8f6ac5421d7e"
      },
      "execution_count": 9,
      "outputs": [
        {
          "output_type": "stream",
          "name": "stdout",
          "text": [
            "簽名結果 = 1608c6e80434e815ab271c1ff9defe172abbd0e6db5f848e9656c0f502657581\n",
            "請求網址 = https://open-api.bingx.com/openApi/swap/v1/ticker/price?symbol=XAUT-USDT&timestamp=1702718923479&timestamp=1749950476832&signature=1608c6e80434e815ab271c1ff9defe172abbd0e6db5f848e9656c0f502657581\n",
            "{\n",
            "  \"code\": 0,\n",
            "  \"msg\": \"\",\n",
            "  \"data\": {\n",
            "    \"symbol\": \"XAUT-USDT\",\n",
            "    \"price\": \"3471.5\",\n",
            "    \"time\": 1749950476807\n",
            "  }\n",
            "}\n"
          ]
        }
      ]
    },
    {
      "cell_type": "code",
      "source": [
        "bingx_gold_price = parsed[\"data\"][\"price\"]\n",
        "\n",
        "bingx_gold_price"
      ],
      "metadata": {
        "colab": {
          "base_uri": "https://localhost:8080/",
          "height": 36
        },
        "id": "AHrPVbuoq2Yw",
        "outputId": "ecc9053f-44c1-4154-8212-3fd9c5ff8ca3"
      },
      "execution_count": 10,
      "outputs": [
        {
          "output_type": "execute_result",
          "data": {
            "text/plain": [
              "'3471.5'"
            ],
            "application/vnd.google.colaboratory.intrinsic+json": {
              "type": "string"
            }
          },
          "metadata": {},
          "execution_count": 10
        }
      ]
    },
    {
      "cell_type": "markdown",
      "source": [
        "# 交易所2 查詢價格"
      ],
      "metadata": {
        "id": "TwcFj7LrpWdx"
      }
    },
    {
      "cell_type": "code",
      "source": [],
      "metadata": {
        "id": "EUzDB1ewpapg"
      },
      "execution_count": 10,
      "outputs": []
    },
    {
      "cell_type": "code",
      "source": [],
      "metadata": {
        "id": "-x1By1GOpbLQ"
      },
      "execution_count": 10,
      "outputs": []
    },
    {
      "cell_type": "code",
      "source": [
        "exchange_b_gold_price = parsed[\"data\"][\"price\"]\n",
        "\n",
        "exchange_b_gold_price"
      ],
      "metadata": {
        "colab": {
          "base_uri": "https://localhost:8080/",
          "height": 36
        },
        "id": "J08pLbzwry41",
        "outputId": "5a605e64-fcf2-4010-a5e8-302ebc645346"
      },
      "execution_count": 11,
      "outputs": [
        {
          "output_type": "execute_result",
          "data": {
            "text/plain": [
              "'3471.5'"
            ],
            "application/vnd.google.colaboratory.intrinsic+json": {
              "type": "string"
            }
          },
          "metadata": {},
          "execution_count": 11
        }
      ]
    },
    {
      "cell_type": "markdown",
      "source": [
        "# BX 開倉定義"
      ],
      "metadata": {
        "id": "5gTZZbSOtNRE"
      }
    },
    {
      "cell_type": "code",
      "source": [
        "import time\n",
        "import requests\n",
        "import hmac\n",
        "from hashlib import sha256"
      ],
      "metadata": {
        "id": "qOB8iNO5uxoz"
      },
      "execution_count": 12,
      "outputs": []
    },
    {
      "cell_type": "code",
      "source": [
        "APIURL = \"https://open-api.bingx.com\"\n",
        "APIKEY = \"\"      # ✅ 請填入你的 API KEY\n",
        "SECRETKEY = \"\"   # ✅ 請填入你的 SECRET KEY"
      ],
      "metadata": {
        "id": "Q_z91r0buy-i"
      },
      "execution_count": 13,
      "outputs": []
    },
    {
      "cell_type": "code",
      "source": [
        "def BX_place_order(symbol, side, positionSide, quantity, take_profit_price=None):\n",
        "\n",
        "    \"\"\"\n",
        "    向 BingX 發送市價單下單指令，可選擇停利參數。\n",
        "\n",
        "    symbol: 幣種（例如 \"BTC-USDT\"）\n",
        "    side: \"BUY\" 或 \"SELL\"\n",
        "    positionSide: \"LONG\" 或 \"SHORT\"\n",
        "    quantity: 下單數量\n",
        "    take_profit_price: 停利價格（選填）\n",
        "\n",
        "    回傳值為 BingX API 的回應文字。\n",
        "    \"\"\"\n",
        "\n",
        "    # API 資訊\n",
        "    path = '/openApi/swap/v2/trade/order'\n",
        "    method = \"POST\"\n",
        "\n",
        "    # 組裝參數\n",
        "    paramsMap = {\n",
        "        \"symbol\": symbol,\n",
        "        \"side\": side,\n",
        "        \"positionSide\": positionSide,\n",
        "        \"type\": \"MARKET\",  # 市價單\n",
        "        \"quantity\": quantity\n",
        "    }\n",
        "\n",
        "    # 如有設定停利價格，就加入 takeProfit 條件\n",
        "    if take_profit_price is not None:\n",
        "        take_profit_dict = {\n",
        "            \"type\": \"TAKE_PROFIT_MARKET\",\n",
        "            \"stopPrice\": take_profit_price,\n",
        "            \"price\": take_profit_price,\n",
        "            \"workingType\": \"MARK_PRICE\"\n",
        "        }\n",
        "        import json\n",
        "        paramsMap[\"takeProfit\"] = json.dumps(take_profit_dict)\n",
        "\n",
        "    # 加入時間戳並排序\n",
        "    sortedKeys = sorted(paramsMap)\n",
        "    paramsStr = \"&\".join([\"%s=%s\" % (k, paramsMap[k]) for k in sortedKeys])\n",
        "    timestamp = str(int(time.time() * 1000))\n",
        "    if paramsStr != \"\":\n",
        "        paramsStr += \"&timestamp=\" + timestamp\n",
        "    else:\n",
        "        paramsStr = \"timestamp=\" + timestamp\n",
        "\n",
        "    # 產生簽名\n",
        "    sign_payload = paramsStr\n",
        "    signature = hmac.new(SECRETKEY.encode(\"utf-8\"), sign_payload.encode(\"utf-8\"), digestmod=sha256).hexdigest()\n",
        "\n",
        "    # 發送請求\n",
        "    url = APIURL + path + \"?\" + paramsStr + \"&signature=\" + signature\n",
        "    headers = {\n",
        "        'X-BX-APIKEY': APIKEY,\n",
        "    }\n",
        "\n",
        "    response = requests.request(method, url, headers=headers, data={})\n",
        "    return response.text"
      ],
      "metadata": {
        "id": "0SDG8HUytgAc"
      },
      "execution_count": 14,
      "outputs": []
    },
    {
      "cell_type": "code",
      "source": [
        "# 下單 BTC-USDT，多單，數量 5，不設停利\n",
        "# result = BX_place_order(\"BTC-USDT\", \"BUY\", \"LONG\", 5)\n",
        "\n",
        "# 下單 ETH-USDT，空單，數量 2，停利設在 3500\n",
        "# result = BX_place_order(\"ETH-USDT\", \"SELL\", \"SHORT\", 2, take_profit_price=3500)\n",
        "\n",
        "# print(\"回傳結果:\", result)"
      ],
      "metadata": {
        "id": "wLttZjIOvD7K"
      },
      "execution_count": 15,
      "outputs": []
    },
    {
      "cell_type": "code",
      "source": [
        "# 因為是兩個或是未來多個交易所套利，所以應該是不用設定停利條件。\n",
        "\n",
        "# BINGX關倉需要合約號，所以還要再寫個查合約號，並且記錄合約號。"
      ],
      "metadata": {
        "id": "5MXmOOmwweUB"
      },
      "execution_count": 16,
      "outputs": []
    },
    {
      "cell_type": "code",
      "source": [],
      "metadata": {
        "id": "TrVUyRVtMEhB"
      },
      "execution_count": null,
      "outputs": []
    },
    {
      "cell_type": "markdown",
      "source": [
        "# BX 合約號紀錄"
      ],
      "metadata": {
        "id": "xuyX8nNBxSgo"
      }
    },
    {
      "cell_type": "code",
      "source": [
        "import time\n",
        "import requests\n",
        "import hmac\n",
        "from hashlib import sha256"
      ],
      "metadata": {
        "id": "QW4e4xOayJAw"
      },
      "execution_count": 17,
      "outputs": []
    },
    {
      "cell_type": "code",
      "source": [
        "APIURL = \"https://open-api.bingx.com\"\n",
        "APIKEY = \"\"      # ✅ 請填入你的 API KEY\n",
        "SECRETKEY = \"\"   # ✅ 請填入你的 SECRET KEY"
      ],
      "metadata": {
        "id": "3_zf_mQ4yK23"
      },
      "execution_count": 18,
      "outputs": []
    },
    {
      "cell_type": "code",
      "source": [
        "def get_bingx_position_id(symbol):\n",
        "\n",
        "    \"\"\"\n",
        "    查詢指定幣種持倉資訊，回傳該倉位的 positionId 字串。\n",
        "    symbol: 幣種對（例如 \"BNB-USDT\"）\n",
        "\n",
        "    回傳: positionId（字串），若查無則回傳 None。\n",
        "    \"\"\"\n",
        "\n",
        "    # API 資訊\n",
        "    path = '/openApi/swap/v2/user/positions'\n",
        "    method = \"GET\"\n",
        "\n",
        "    # 組裝請求參數\n",
        "    paramsMap = {\n",
        "        \"symbol\": symbol\n",
        "    }\n",
        "\n",
        "    # 排序參數並加入 timestamp\n",
        "    sortedKeys = sorted(paramsMap)\n",
        "    paramsStr = \"\"\n",
        "    for key in sortedKeys:\n",
        "        if paramsStr != \"\":\n",
        "            paramsStr += \"&\"\n",
        "        paramsStr += key + \"=\" + str(paramsMap[key])\n",
        "    paramsStr += \"&timestamp=\" + str(int(time.time() * 1000))\n",
        "\n",
        "    # 簽名\n",
        "    signature = hmac.new(\n",
        "        SECRETKEY.encode(\"utf-8\"),\n",
        "        paramsStr.encode(\"utf-8\"),\n",
        "        digestmod=sha256\n",
        "    ).hexdigest()\n",
        "\n",
        "    # URL 組合\n",
        "    url = APIURL + path + \"?\" + paramsStr + \"&signature=\" + signature\n",
        "    print(\"查詢請求：\", url)\n",
        "\n",
        "    headers = {\n",
        "        'X-BX-APIKEY': APIKEY,\n",
        "    }\n",
        "\n",
        "    # 發送請求\n",
        "    response = requests.request(method, url, headers=headers, data={})\n",
        "    try:\n",
        "        result = response.json()\n",
        "        position_id = result[\"data\"][\"positionId\"]\n",
        "        print(\"🎯 查到 positionId =\", position_id)\n",
        "        return str(position_id)\n",
        "    except Exception as e:\n",
        "        print(\"⚠️ 解析失敗或查無倉位：\", e)\n",
        "        return None"
      ],
      "metadata": {
        "id": "e_qSSctDxVCY"
      },
      "execution_count": 19,
      "outputs": []
    },
    {
      "cell_type": "code",
      "source": [
        "position_id = get_bingx_position_id(\"XAUT-USDT\")\n",
        "\n",
        "ID = []\n",
        "\n",
        "if position_id is not None:\n",
        "  ID.append(position_id)\n",
        "  print(\"✅ 倉位 ID 已獲得：\", position_id)\n",
        "  print(ID)\n",
        "else:\n",
        "  print(\"❌ 查無倉位\")"
      ],
      "metadata": {
        "colab": {
          "base_uri": "https://localhost:8080/"
        },
        "id": "KTkHoefLyPBg",
        "outputId": "5fbbdda1-be68-4b46-e830-21d92c9ae812"
      },
      "execution_count": 20,
      "outputs": [
        {
          "output_type": "stream",
          "name": "stdout",
          "text": [
            "查詢請求： https://open-api.bingx.com/openApi/swap/v2/user/positions?symbol=XAUT-USDT&timestamp=1749950477274&signature=b6522c93edafefa526882885b8a0cdba65ad2d8638f55e5f10466ebf4979a974\n",
            "⚠️ 解析失敗或查無倉位： 'data'\n",
            "❌ 查無倉位\n"
          ]
        }
      ]
    },
    {
      "cell_type": "markdown",
      "source": [
        "# 交易所2 開倉定義"
      ],
      "metadata": {
        "id": "qEUMye4_tRxk"
      }
    },
    {
      "cell_type": "code",
      "source": [],
      "metadata": {
        "id": "lliNmB0Vtg18"
      },
      "execution_count": 20,
      "outputs": []
    },
    {
      "cell_type": "markdown",
      "source": [
        "# BX 關倉定義"
      ],
      "metadata": {
        "id": "fZAhcwjZsy5N"
      }
    },
    {
      "cell_type": "code",
      "source": [
        "import time\n",
        "import requests\n",
        "import hmac\n",
        "from hashlib import sha256"
      ],
      "metadata": {
        "id": "yl7XBkH0vzJy"
      },
      "execution_count": 21,
      "outputs": []
    },
    {
      "cell_type": "code",
      "source": [
        "APIURL = \"https://open-api.bingx.com\"\n",
        "APIKEY = \"\"      # ✅ 請填入你的 API KEY\n",
        "SECRETKEY = \"\"   # ✅ 請填入你的 SECRET KEY"
      ],
      "metadata": {
        "id": "5njTOYtPvzoR"
      },
      "execution_count": 22,
      "outputs": []
    },
    {
      "cell_type": "code",
      "source": [
        "def close_bingx_position(order_id, symbol):\n",
        "\n",
        "    \"\"\"\n",
        "    取消 BingX 的合約訂單（平倉用）\n",
        "\n",
        "    order_id: 要取消的訂單 ID\n",
        "    symbol: 幣種對，如 \"RNDR-USDT\"\n",
        "\n",
        "    回傳值為 API 的回應文字。\n",
        "    \"\"\"\n",
        "\n",
        "    # API 路徑與方法\n",
        "    path = '/openApi/swap/v2/trade/order'\n",
        "    method = \"DELETE\"\n",
        "\n",
        "    # 組合參數（不含簽名）\n",
        "    paramsMap = {\n",
        "        \"orderId\": order_id,\n",
        "        \"symbol\": symbol\n",
        "    }\n",
        "\n",
        "    # 加入 timestamp 並轉為參數字串\n",
        "    sortedKeys = sorted(paramsMap)\n",
        "    paramsStr = \"\"\n",
        "    for key in sortedKeys:\n",
        "        if paramsStr != \"\":\n",
        "            paramsStr = paramsStr + \"&\" + key + \"=\" + str(paramsMap[key])\n",
        "        else:\n",
        "            paramsStr = key + \"=\" + str(paramsMap[key])\n",
        "\n",
        "    # 加入當前時間戳\n",
        "    timestamp = str(int(time.time() * 1000))\n",
        "    if paramsStr != \"\":\n",
        "        paramsStr += \"&timestamp=\" + timestamp\n",
        "    else:\n",
        "        paramsStr = \"timestamp=\" + timestamp\n",
        "\n",
        "    # 簽名處理\n",
        "    signature = hmac.new(\n",
        "        SECRETKEY.encode(\"utf-8\"),\n",
        "        paramsStr.encode(\"utf-8\"),\n",
        "        digestmod=sha256\n",
        "    ).hexdigest()\n",
        "\n",
        "    # 組合 URL\n",
        "    url = APIURL + path + \"?\" + paramsStr + \"&signature=\" + signature\n",
        "    print(\"取消訂單請求：\", url)\n",
        "\n",
        "    # 設定標頭與送出請求\n",
        "    headers = {\n",
        "        'X-BX-APIKEY': APIKEY,\n",
        "    }\n",
        "\n",
        "    response = requests.request(method, url, headers=headers, data={})\n",
        "    return response.text"
      ],
      "metadata": {
        "id": "PoKoCHL4s4_U"
      },
      "execution_count": 23,
      "outputs": []
    },
    {
      "cell_type": "code",
      "source": [
        "# 用 for in ID = [] 的模式關倉。"
      ],
      "metadata": {
        "id": "vQCzj3kXygRn"
      },
      "execution_count": 24,
      "outputs": []
    },
    {
      "cell_type": "markdown",
      "source": [
        "# 交易所2 關倉定義"
      ],
      "metadata": {
        "id": "7Bc36uOWs2A9"
      }
    },
    {
      "cell_type": "code",
      "source": [],
      "metadata": {
        "id": "zOvw-Z8ks6RN"
      },
      "execution_count": 24,
      "outputs": []
    },
    {
      "cell_type": "markdown",
      "source": [
        "# 比價"
      ],
      "metadata": {
        "id": "_sOxBC8Kpb1g"
      }
    },
    {
      "cell_type": "code",
      "source": [
        "# GPT輸入:\n",
        "# 這邊有不少問題，概念上是這樣，先把BX-B的價格算出來，這樣才可以確定是BX的黃金價格在高位，還是B的價格在相對高位。\n",
        "\n",
        "# 對相對高位的那個交易所下空單，相反的下多單，不斷的監視價格。\n",
        "# 當價格差距縮小的時候(這個時候兩邊都會獲利)，每間隔指定的點位，加一個單，直到BX-X為零，或是逼近零，這個時候無獲利空間，發出指令，兩邊所有倉位都平倉。"
      ],
      "metadata": {
        "id": "vUOktBJOHYwO"
      },
      "execution_count": 25,
      "outputs": []
    },
    {
      "cell_type": "code",
      "source": [
        "import time"
      ],
      "metadata": {
        "id": "TpB1YgvrIizO"
      },
      "execution_count": 26,
      "outputs": []
    },
    {
      "cell_type": "code",
      "source": [
        "CHECK_INTERVAL = 0.2  # 秒\n",
        "ENTRY_SPREAD = 5      # 初始套利進場門檻（價差）\n",
        "ADD_SPREAD_STEP = 1   # 每縮小幾 USDT 加一次單\n",
        "CLOSE_SPREAD = 0.5    # 接近0視為無套利空間，平倉離場"
      ],
      "metadata": {
        "id": "p5S4rnFEImTt"
      },
      "execution_count": 27,
      "outputs": []
    },
    {
      "cell_type": "code",
      "source": [
        "# 初始進場狀態\n",
        "entered = False\n",
        "entry_spread = None\n",
        "last_spread = None\n",
        "add_count = 0"
      ],
      "metadata": {
        "id": "w-L0OJo8Iq69"
      },
      "execution_count": 28,
      "outputs": []
    },
    {
      "cell_type": "code",
      "source": [
        "# 說明\n",
        "# entered: 控制進場與否\n",
        "# entry_spread: 記錄初始進場價差\n",
        "# last_spread: 用來判斷是否縮小了 ADD_SPREAD_STEP 再加碼\n",
        "# add_count: 記錄加倉次數\n",
        "# spread > 0 代表 BingX 高於 B → 對 BX 空、對 B 多"
      ],
      "metadata": {
        "id": "o5nKIHnJJmUk"
      },
      "execution_count": 29,
      "outputs": []
    },
    {
      "cell_type": "code",
      "source": [
        "while True:\n",
        "    bx = # get_bingx_price()\n",
        "    b = # get_exchange_b_price()\n",
        "\n",
        "    if bx is None or b is None:\n",
        "        continue\n",
        "\n",
        "    spread = bx - b\n",
        "    print(f\"BingX: {bx} | B: {b} | 差價: {spread:.2f}\")\n",
        "\n",
        "    if not entered:\n",
        "        if abs(spread) >= ENTRY_SPREAD:\n",
        "\n",
        "            # 初次進場判斷：誰高誰空\n",
        "            if spread > 0:\n",
        "                # BX 在高點，對 BX 空，對 B 多\n",
        "                open_short(\"BingX\", bx)  #result = BX_place_order(\"ETH-USDT\", \"SELL\", \"SHORT\", 2, take_profit_price=3500)\n",
        "                open_long(\"ExchangeB\", b) #result = BX_place_order(\"BTC-USDT\", \"BUY\", \"LONG\", 5)\n",
        "            else:\n",
        "                open_long(\"BingX\", bx)\n",
        "                open_short(\"ExchangeB\", b)\n",
        "\n",
        "            entered = True\n",
        "            entry_spread = abs(spread)\n",
        "            last_spread = abs(spread)\n",
        "    else:\n",
        "        # 已進場後監控\n",
        "        current_spread = abs(spread)\n",
        "\n",
        "        if current_spread < last_spread - ADD_SPREAD_STEP:\n",
        "            print(f\"🔁 價差縮小到 {current_spread:.2f}，加碼第 {add_count + 1} 次\")\n",
        "            if spread > 0:\n",
        "                open_short(\"BingX\", bx)\n",
        "                open_long(\"ExchangeB\", b)\n",
        "            else:\n",
        "                open_long(\"BingX\", bx)\n",
        "                open_short(\"ExchangeB\", b)\n",
        "\n",
        "            last_spread = current_spread\n",
        "            add_count += 1\n",
        "\n",
        "        elif current_spread <= CLOSE_SPREAD:\n",
        "            print(\"🏁 價差逼近 0，執行全部平倉\")\n",
        "            close_BX_positions() # BX 應該是用 for in ID = [] 的模式，用上面的close_bingx_position關倉。\n",
        "            # clode_B_positions()\n",
        "            break\n",
        "\n",
        "    time.sleep(CHECK_INTERVAL)"
      ],
      "metadata": {
        "id": "yoBDreKqI0zU"
      },
      "execution_count": null,
      "outputs": []
    },
    {
      "cell_type": "code",
      "source": [
        "# 2025/06/15"
      ],
      "metadata": {
        "id": "cRczhTRezcMG"
      },
      "execution_count": null,
      "outputs": []
    }
  ]
}
