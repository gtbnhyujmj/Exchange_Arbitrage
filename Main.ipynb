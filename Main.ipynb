{
  "nbformat": 4,
  "nbformat_minor": 0,
  "metadata": {
    "colab": {
      "provenance": [],
      "authorship_tag": "ABX9TyMcNr9NkoGJG/L0bVWvdwvh",
      "include_colab_link": true
    },
    "kernelspec": {
      "name": "python3",
      "display_name": "Python 3"
    },
    "language_info": {
      "name": "python"
    }
  },
  "cells": [
    {
      "cell_type": "markdown",
      "metadata": {
        "id": "view-in-github",
        "colab_type": "text"
      },
      "source": [
        "<a href=\"https://colab.research.google.com/github/gtbnhyujmj/Gold_Cross-Exchange-Arbitrage/blob/main/Main.ipynb\" target=\"_parent\"><img src=\"https://colab.research.google.com/assets/colab-badge.svg\" alt=\"Open In Colab\"/></a>"
      ]
    },
    {
      "cell_type": "code",
      "execution_count": 6,
      "metadata": {
        "id": "8UFE8-K2z_HL"
      },
      "outputs": [],
      "source": [
        "from bingx_client import BingXClient"
      ]
    },
    {
      "cell_type": "code",
      "source": [
        "APIKEY = \"\"\n",
        "SECRETKEY = \"\""
      ],
      "metadata": {
        "id": "sB_mMLTI0JMw"
      },
      "execution_count": 7,
      "outputs": []
    },
    {
      "cell_type": "code",
      "source": [
        "# 建立 BingX 客戶端物件\n",
        "bx = BingXClient(APIKEY, SECRETKEY)"
      ],
      "metadata": {
        "id": "rEVZ5BjM0LT3"
      },
      "execution_count": 8,
      "outputs": []
    },
    {
      "cell_type": "code",
      "source": [
        "# 查詢價格\n",
        "price = bx.get_price(\"XAUT-USDT\")\n",
        "print(\"黃金現價:\", price)"
      ],
      "metadata": {
        "colab": {
          "base_uri": "https://localhost:8080/"
        },
        "id": "av8HxnFX0MWv",
        "outputId": "a03eef48-d6d6-4e08-b403-a744d2bd663d"
      },
      "execution_count": 9,
      "outputs": [
        {
          "output_type": "stream",
          "name": "stdout",
          "text": [
            "黃金現價: 3439.2\n"
          ]
        }
      ]
    },
    {
      "cell_type": "code",
      "source": [
        "# 示範下單（請先確認參數安全再解開）\n",
        "bx.place_order(\"XAUT-USDT\", \"BUY\", \"BOTH\", 1)"
      ],
      "metadata": {
        "colab": {
          "base_uri": "https://localhost:8080/"
        },
        "id": "h00UgU0k0Z-3",
        "outputId": "5a441fde-f67f-4013-85bc-c5b8f1a1cb21"
      },
      "execution_count": 12,
      "outputs": [
        {
          "output_type": "execute_result",
          "data": {
            "text/plain": [
              "{'code': 80001, 'msg': 'Insufficient margin', 'data': {}}"
            ]
          },
          "metadata": {},
          "execution_count": 12
        }
      ]
    },
    {
      "cell_type": "code",
      "source": [
        "# 查合約 ID\n",
        "pid = bx.get_position_id(\"XAUT-USDT\")\n",
        "\n",
        "print(pid)"
      ],
      "metadata": {
        "colab": {
          "base_uri": "https://localhost:8080/"
        },
        "id": "yRSxHMn91Y6W",
        "outputId": "5430078b-bd54-4f8e-a2b9-a8065076ac48"
      },
      "execution_count": 14,
      "outputs": [
        {
          "output_type": "stream",
          "name": "stdout",
          "text": [
            "None\n"
          ]
        }
      ]
    },
    {
      "cell_type": "code",
      "source": [
        "# 平倉\n",
        "bx.close_position(pid, \"XAUT-USDT\")"
      ],
      "metadata": {
        "colab": {
          "base_uri": "https://localhost:8080/"
        },
        "id": "DEd-qRMy1fkt",
        "outputId": "0e4c4615-ffe5-4af2-d908-2a6ca7a14f97"
      },
      "execution_count": 15,
      "outputs": [
        {
          "output_type": "execute_result",
          "data": {
            "text/plain": [
              "{'code': 80014,\n",
              " 'msg': 'Invalid parameters, err:The request you constructed does not meet the requirements. Please refer to the sample code in the API documentation to construct your request. (https://bingx-api.github.io/docs/#/en-us/swapV2/introduce)',\n",
              " 'data': {}}"
            ]
          },
          "metadata": {},
          "execution_count": 15
        }
      ]
    },
    {
      "cell_type": "markdown",
      "source": [
        "# 加入 ArbitrageBot"
      ],
      "metadata": {
        "id": "UPr8jLFL53x5"
      }
    },
    {
      "cell_type": "code",
      "source": [
        "# 範例：當作另一交易所 client\n",
        "# exb = BingXClient(\"另一組KEY\", \"另一組SECRET\")"
      ],
      "metadata": {
        "id": "1foEYYe056uy"
      },
      "execution_count": null,
      "outputs": []
    },
    {
      "cell_type": "code",
      "source": [
        "from arbitrage_bot import ArbitrageBot"
      ],
      "metadata": {
        "id": "syBiZlbL6U-4"
      },
      "execution_count": 17,
      "outputs": []
    },
    {
      "cell_type": "code",
      "source": [
        "config = {\n",
        "        \"symbol\": \"XAUT-USDT\",\n",
        "        \"check_interval\": 0.5,\n",
        "        \"entry_spread\": 5,\n",
        "        \"add_spread_step\": 1,\n",
        "        \"close_spread\": 0.5\n",
        "    }"
      ],
      "metadata": {
        "id": "HHSrUvx_6OFI"
      },
      "execution_count": 16,
      "outputs": []
    },
    {
      "cell_type": "code",
      "source": [
        "# 用 bx = bx 而非 exb(交易所B) 先讓系統動起來。\n",
        "# 正常寫法: bot = ArbitrageBot(bx, exb, config)\n",
        "\n",
        "bot = ArbitrageBot(bx, bx, config)"
      ],
      "metadata": {
        "id": "Sm8z1pLU6Q7Z"
      },
      "execution_count": 18,
      "outputs": []
    },
    {
      "cell_type": "code",
      "source": [
        "bot.run()"
      ],
      "metadata": {
        "colab": {
          "base_uri": "https://localhost:8080/",
          "height": 327
        },
        "id": "u8KXAx536evq",
        "outputId": "36147c28-3cd4-4445-b577-872accf278fa"
      },
      "execution_count": 19,
      "outputs": [
        {
          "output_type": "stream",
          "name": "stdout",
          "text": [
            "📈 BX: 3437.2, B: 3437.2, 差價: 0.00\n",
            "📈 BX: 3437.1, B: 3437.1, 差價: 0.00\n",
            "📈 BX: 3437.2, B: 3437.2, 差價: 0.00\n",
            "📈 BX: 3437.2, B: 3437.1, 差價: 0.10\n",
            "📈 BX: 3437.2, B: 3437.1, 差價: 0.10\n"
          ]
        },
        {
          "output_type": "error",
          "ename": "KeyboardInterrupt",
          "evalue": "",
          "traceback": [
            "\u001b[0;31m---------------------------------------------------------------------------\u001b[0m",
            "\u001b[0;31mKeyboardInterrupt\u001b[0m                         Traceback (most recent call last)",
            "\u001b[0;32m<ipython-input-19-4200449623>\u001b[0m in \u001b[0;36m<cell line: 0>\u001b[0;34m()\u001b[0m\n\u001b[0;32m----> 1\u001b[0;31m \u001b[0mbot\u001b[0m\u001b[0;34m.\u001b[0m\u001b[0mrun\u001b[0m\u001b[0;34m(\u001b[0m\u001b[0;34m)\u001b[0m\u001b[0;34m\u001b[0m\u001b[0;34m\u001b[0m\u001b[0m\n\u001b[0m",
            "\u001b[0;32m/content/arbitrage_bot.py\u001b[0m in \u001b[0;36mrun\u001b[0;34m(self)\u001b[0m\n\u001b[1;32m     67\u001b[0m                     \u001b[0;32mbreak\u001b[0m\u001b[0;34m\u001b[0m\u001b[0;34m\u001b[0m\u001b[0m\n\u001b[1;32m     68\u001b[0m \u001b[0;34m\u001b[0m\u001b[0m\n\u001b[0;32m---> 69\u001b[0;31m             \u001b[0mtime\u001b[0m\u001b[0;34m.\u001b[0m\u001b[0msleep\u001b[0m\u001b[0;34m(\u001b[0m\u001b[0mself\u001b[0m\u001b[0;34m.\u001b[0m\u001b[0mcheck_interval\u001b[0m\u001b[0;34m)\u001b[0m\u001b[0;34m\u001b[0m\u001b[0;34m\u001b[0m\u001b[0m\n\u001b[0m",
            "\u001b[0;31mKeyboardInterrupt\u001b[0m: "
          ]
        }
      ]
    }
  ]
}