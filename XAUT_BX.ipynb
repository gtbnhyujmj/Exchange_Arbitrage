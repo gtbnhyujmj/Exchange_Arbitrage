{
  "nbformat": 4,
  "nbformat_minor": 0,
  "metadata": {
    "colab": {
      "provenance": [],
      "authorship_tag": "ABX9TyOmfjbGs5INFGPf5Lkkygc4",
      "include_colab_link": true
    },
    "kernelspec": {
      "name": "python3",
      "display_name": "Python 3"
    },
    "language_info": {
      "name": "python"
    }
  },
  "cells": [
    {
      "cell_type": "markdown",
      "metadata": {
        "id": "view-in-github",
        "colab_type": "text"
      },
      "source": [
        "<a href=\"https://colab.research.google.com/github/gtbnhyujmj/Gold_Cross-Exchange-Arbitrage/blob/main/XAUT_BX.ipynb\" target=\"_parent\"><img src=\"https://colab.research.google.com/assets/colab-badge.svg\" alt=\"Open In Colab\"/></a>"
      ]
    },
    {
      "cell_type": "code",
      "execution_count": 42,
      "metadata": {
        "id": "535kt6H0lPvA"
      },
      "outputs": [],
      "source": [
        "import time\n",
        "import requests\n",
        "import hmac\n",
        "from hashlib import sha256"
      ]
    },
    {
      "cell_type": "code",
      "source": [
        "# API 主網址\n",
        "APIURL = \"https://open-api.bingx.com\""
      ],
      "metadata": {
        "id": "pbWx6MkXmV_s"
      },
      "execution_count": 43,
      "outputs": []
    },
    {
      "cell_type": "code",
      "source": [
        "# 你的 API 金鑰（可以先空著測試）\n",
        "APIKEY = \"\"\n",
        "SECRETKEY = \"\""
      ],
      "metadata": {
        "id": "Ky_F1IabmX7D"
      },
      "execution_count": 44,
      "outputs": []
    },
    {
      "cell_type": "code",
      "source": [
        "# 查詢 XAUT-USDT 的即時價格 (泰達公司出的泰達黃金)\n",
        "\n",
        "def demo():\n",
        "    # 請求資料可以是空的（GET 請求）\n",
        "    payload = {}\n",
        "\n",
        "    # API 的路徑\n",
        "    path = '/openApi/swap/v1/ticker/price'\n",
        "\n",
        "    # 請求方式\n",
        "    method = \"GET\"\n",
        "\n",
        "    # 要送出的參數\n",
        "    paramsMap = {\n",
        "        \"symbol\": \"XAUT-USDT\",  # 想查詢的幣種\n",
        "        \"timestamp\": \"1702718923479\"  # 固定的測試值，後面會自動更新\n",
        "    }\n",
        "\n",
        "    # 將參數轉成 URL 格式字串\n",
        "    paramsStr = parseParam(paramsMap)\n",
        "\n",
        "    # 送出請求\n",
        "    return send_request(method, path, paramsStr, payload)"
      ],
      "metadata": {
        "id": "SY1IDTaqmayL"
      },
      "execution_count": 45,
      "outputs": []
    },
    {
      "cell_type": "code",
      "source": [
        "# 對參數進行簽名（加密）\n",
        "\n",
        "def get_sign(api_secret, payload):\n",
        "    # 使用 SHA256 加密並回傳簽名值\n",
        "    key_bytes = api_secret.encode(\"utf-8\")\n",
        "    payload_bytes = payload.encode(\"utf-8\")\n",
        "    signature = hmac.new(key_bytes, payload_bytes, digestmod=sha256).hexdigest()\n",
        "    print(\"簽名結果 =\", signature)\n",
        "    return signature"
      ],
      "metadata": {
        "id": "8cp1dK39mc0j"
      },
      "execution_count": 46,
      "outputs": []
    },
    {
      "cell_type": "code",
      "source": [
        "# 發送 GET 請求\n",
        "\n",
        "def send_request(method, path, urlpa, payload):\n",
        "    # 手動組合 URL 字串（不使用 f-string）\n",
        "    base_url = APIURL + path + \"?\" + urlpa + \"&signature=\" + get_sign(SECRETKEY, urlpa)\n",
        "    print(\"請求網址 =\", base_url)\n",
        "\n",
        "    # 設定 headers，帶上 API 金鑰\n",
        "    headers = {\n",
        "        'X-BX-APIKEY': APIKEY,\n",
        "    }\n",
        "\n",
        "    # 送出請求\n",
        "    response = requests.request(method, base_url, headers=headers, data=payload)\n",
        "\n",
        "    # 回傳伺服器的回應\n",
        "    return response.text"
      ],
      "metadata": {
        "id": "ue24EIMtmekL"
      },
      "execution_count": 47,
      "outputs": []
    },
    {
      "cell_type": "code",
      "source": [
        "# 將參數轉為 URL 字串，並自動加入目前時間戳\n",
        "\n",
        "def parseParam(paramsMap):\n",
        "    # 將參數依照 key 排序\n",
        "    sortedKeys = sorted(paramsMap)\n",
        "\n",
        "    # 將每組 key=value 用 & 串接起來\n",
        "    paramsStr = \"\"\n",
        "    for key in sortedKeys:\n",
        "        if paramsStr != \"\":\n",
        "            paramsStr = paramsStr + \"&\" + key + \"=\" + str(paramsMap[key])\n",
        "        else:\n",
        "            paramsStr = key + \"=\" + str(paramsMap[key])\n",
        "\n",
        "    # 加上目前時間戳\n",
        "    now_timestamp = \"timestamp=\" + str(int(time.time() * 1000))\n",
        "\n",
        "    # 如果已經有參數，就補上 &timestamp\n",
        "    if paramsStr != \"\":\n",
        "        return paramsStr + \"&\" + now_timestamp\n",
        "    else:\n",
        "        return now_timestamp"
      ],
      "metadata": {
        "id": "hb75XRdXmhhD"
      },
      "execution_count": 48,
      "outputs": []
    },
    {
      "cell_type": "code",
      "source": [
        "# 主程式：呼叫 demo 函式\n",
        "if __name__ == '__main__':\n",
        "    print(\"執行結果:\", demo())"
      ],
      "metadata": {
        "colab": {
          "base_uri": "https://localhost:8080/"
        },
        "id": "Yg0Z2JBAmlq7",
        "outputId": "39182998-fc12-486a-c10e-92a96d673891"
      },
      "execution_count": 49,
      "outputs": [
        {
          "output_type": "stream",
          "name": "stdout",
          "text": [
            "簽名結果 = d8ccfa579737e7c0091120f6b4d83634c67f166a144c5fbc9e99e6f010dd2c5c\n",
            "請求網址 = https://open-api.bingx.com/openApi/swap/v1/ticker/price?symbol=XAUT-USDT&timestamp=1702718923479&timestamp=1749907604041&signature=d8ccfa579737e7c0091120f6b4d83634c67f166a144c5fbc9e99e6f010dd2c5c\n",
            "執行結果: {\"code\":0,\"msg\":\"\",\"data\":{\"symbol\":\"XAUT-USDT\",\"price\":\"3433.7\",\"time\":1749907604208}}\n"
          ]
        }
      ]
    }
  ]
}