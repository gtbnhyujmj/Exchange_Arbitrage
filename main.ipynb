{
  "nbformat": 4,
  "nbformat_minor": 0,
  "metadata": {
    "colab": {
      "provenance": [],
      "authorship_tag": "ABX9TyNEXV12O4vsG8kRxnJQwIhP",
      "include_colab_link": true
    },
    "kernelspec": {
      "name": "python3",
      "display_name": "Python 3"
    },
    "language_info": {
      "name": "python"
    }
  },
  "cells": [
    {
      "cell_type": "markdown",
      "metadata": {
        "id": "view-in-github",
        "colab_type": "text"
      },
      "source": [
        "<a href=\"https://colab.research.google.com/github/gtbnhyujmj/Gold_Cross-Exchange-Arbitrage/blob/main/main.ipynb\" target=\"_parent\"><img src=\"https://colab.research.google.com/assets/colab-badge.svg\" alt=\"Open In Colab\"/></a>"
      ]
    },
    {
      "cell_type": "code",
      "execution_count": 6,
      "metadata": {
        "id": "8UFE8-K2z_HL"
      },
      "outputs": [],
      "source": [
        "from bingx_client import BingXClient"
      ]
    },
    {
      "cell_type": "code",
      "source": [
        "APIKEY = \"\"\n",
        "SECRETKEY = \"\""
      ],
      "metadata": {
        "id": "sB_mMLTI0JMw"
      },
      "execution_count": 7,
      "outputs": []
    },
    {
      "cell_type": "code",
      "source": [
        "# 建立 BingX 客戶端物件\n",
        "bx = BingXClient(APIKEY, SECRETKEY)"
      ],
      "metadata": {
        "id": "rEVZ5BjM0LT3"
      },
      "execution_count": 8,
      "outputs": []
    },
    {
      "cell_type": "code",
      "source": [
        "# 查詢價格\n",
        "price = bx.get_price(\"XAUT-USDT\")\n",
        "print(\"黃金現價:\", price)"
      ],
      "metadata": {
        "colab": {
          "base_uri": "https://localhost:8080/"
        },
        "id": "av8HxnFX0MWv",
        "outputId": "a03eef48-d6d6-4e08-b403-a744d2bd663d"
      },
      "execution_count": 9,
      "outputs": [
        {
          "output_type": "stream",
          "name": "stdout",
          "text": [
            "黃金現價: 3439.2\n"
          ]
        }
      ]
    },
    {
      "cell_type": "code",
      "source": [
        "# 示範下單（請先確認參數安全再解開）\n",
        "bx.place_order(\"XAUT-USDT\", \"BUY\", \"BOTH\", 1)"
      ],
      "metadata": {
        "colab": {
          "base_uri": "https://localhost:8080/"
        },
        "id": "h00UgU0k0Z-3",
        "outputId": "5a441fde-f67f-4013-85bc-c5b8f1a1cb21"
      },
      "execution_count": 12,
      "outputs": [
        {
          "output_type": "execute_result",
          "data": {
            "text/plain": [
              "{'code': 80001, 'msg': 'Insufficient margin', 'data': {}}"
            ]
          },
          "metadata": {},
          "execution_count": 12
        }
      ]
    },
    {
      "cell_type": "code",
      "source": [
        "# 查合約 ID\n",
        "pid = bx.get_position_id(\"XAUT-USDT\")\n",
        "\n",
        "print(pid)"
      ],
      "metadata": {
        "colab": {
          "base_uri": "https://localhost:8080/"
        },
        "id": "yRSxHMn91Y6W",
        "outputId": "5430078b-bd54-4f8e-a2b9-a8065076ac48"
      },
      "execution_count": 14,
      "outputs": [
        {
          "output_type": "stream",
          "name": "stdout",
          "text": [
            "None\n"
          ]
        }
      ]
    },
    {
      "cell_type": "code",
      "source": [
        "# 平倉\n",
        "bx.close_position(pid, \"XAUT-USDT\")"
      ],
      "metadata": {
        "colab": {
          "base_uri": "https://localhost:8080/"
        },
        "id": "DEd-qRMy1fkt",
        "outputId": "0e4c4615-ffe5-4af2-d908-2a6ca7a14f97"
      },
      "execution_count": 15,
      "outputs": [
        {
          "output_type": "execute_result",
          "data": {
            "text/plain": [
              "{'code': 80014,\n",
              " 'msg': 'Invalid parameters, err:The request you constructed does not meet the requirements. Please refer to the sample code in the API documentation to construct your request. (https://bingx-api.github.io/docs/#/en-us/swapV2/introduce)',\n",
              " 'data': {}}"
            ]
          },
          "metadata": {},
          "execution_count": 15
        }
      ]
    }
  ]
}